{
 "cells": [
  {
   "cell_type": "code",
   "execution_count": 97,
   "metadata": {},
   "outputs": [],
   "source": [
    "import pandas as pd\n",
    "import numpy as np\n",
    "import matplotlib.pyplot as plt\n",
    "\n",
    "%matplotlib inline"
   ]
  },
  {
   "cell_type": "code",
   "execution_count": 98,
   "metadata": {},
   "outputs": [],
   "source": [
    "df = pd.read_csv(\n",
    "    'data/rawdata/combined_dataform3.csv')"
   ]
  },
  {
   "cell_type": "code",
   "execution_count": 99,
   "metadata": {},
   "outputs": [
    {
     "data": {
      "text/html": [
       "<div>\n",
       "<style scoped>\n",
       "    .dataframe tbody tr th:only-of-type {\n",
       "        vertical-align: middle;\n",
       "    }\n",
       "\n",
       "    .dataframe tbody tr th {\n",
       "        vertical-align: top;\n",
       "    }\n",
       "\n",
       "    .dataframe thead th {\n",
       "        text-align: right;\n",
       "    }\n",
       "</style>\n",
       "<table border=\"1\" class=\"dataframe\">\n",
       "  <thead>\n",
       "    <tr style=\"text-align: right;\">\n",
       "      <th></th>\n",
       "      <th>Unnamed: 0</th>\n",
       "      <th>Unnamed: 1</th>\n",
       "      <th>Unnamed: 2</th>\n",
       "      <th>Unnamed: 3</th>\n",
       "      <th>Unnamed: 4</th>\n",
       "      <th>Unnamed: 5</th>\n",
       "      <th>Unnamed: 6</th>\n",
       "      <th>Unnamed: 7</th>\n",
       "      <th>Unnamed: 8</th>\n",
       "      <th>Unnamed: 9</th>\n",
       "      <th>Unnamed: 10</th>\n",
       "    </tr>\n",
       "  </thead>\n",
       "  <tbody>\n",
       "    <tr>\n",
       "      <th>0</th>\n",
       "      <td>Personal =&gt; Stipan Alexander</td>\n",
       "      <td>NaN</td>\n",
       "      <td>NaN</td>\n",
       "      <td>NaN</td>\n",
       "      <td>NaN</td>\n",
       "      <td>NaN</td>\n",
       "      <td>NaN</td>\n",
       "      <td>NaN</td>\n",
       "      <td>NaN</td>\n",
       "      <td>NaN</td>\n",
       "      <td>NaN</td>\n",
       "    </tr>\n",
       "    <tr>\n",
       "      <th>1</th>\n",
       "      <td>Personal</td>\n",
       "      <td>Ereignistag</td>\n",
       "      <td>Fahrer Zeit</td>\n",
       "      <td>T.Pause</td>\n",
       "      <td>gesetzl. Pause</td>\n",
       "      <td>Insgesamt</td>\n",
       "      <td>Std. Lohn</td>\n",
       "      <td>Lohn</td>\n",
       "      <td>Soll</td>\n",
       "      <td>+- Diff.</td>\n",
       "      <td>NaN</td>\n",
       "    </tr>\n",
       "    <tr>\n",
       "      <th>2</th>\n",
       "      <td>Stipan Alexander</td>\n",
       "      <td>2021-02-01 00:00:00</td>\n",
       "      <td>731</td>\n",
       "      <td>NaN</td>\n",
       "      <td>45</td>\n",
       "      <td>686</td>\n",
       "      <td>0</td>\n",
       "      <td>0</td>\n",
       "      <td>9</td>\n",
       "      <td>2.433333333333334</td>\n",
       "      <td>NaN</td>\n",
       "    </tr>\n",
       "    <tr>\n",
       "      <th>3</th>\n",
       "      <td>Personal</td>\n",
       "      <td>Ereignistag</td>\n",
       "      <td>Auftrag Nr.</td>\n",
       "      <td>Fahrtrichtung</td>\n",
       "      <td>Beginn Auftrag</td>\n",
       "      <td>Abholung/ Zustellung</td>\n",
       "      <td>Pause</td>\n",
       "      <td>Ende Auftrag</td>\n",
       "      <td>Auftragszeit Insgesamt</td>\n",
       "      <td>Std. Lohn</td>\n",
       "      <td>Lohn</td>\n",
       "    </tr>\n",
       "    <tr>\n",
       "      <th>4</th>\n",
       "      <td>Stipan Alexander</td>\n",
       "      <td>2021-02-01 00:00:00</td>\n",
       "      <td>200003</td>\n",
       "      <td>Hinfahrt</td>\n",
       "      <td>01.02.2021 07:54</td>\n",
       "      <td>08:00</td>\n",
       "      <td>NaN</td>\n",
       "      <td>01.02.2021 20:05</td>\n",
       "      <td>731</td>\n",
       "      <td>0</td>\n",
       "      <td>0</td>\n",
       "    </tr>\n",
       "    <tr>\n",
       "      <th>...</th>\n",
       "      <td>...</td>\n",
       "      <td>...</td>\n",
       "      <td>...</td>\n",
       "      <td>...</td>\n",
       "      <td>...</td>\n",
       "      <td>...</td>\n",
       "      <td>...</td>\n",
       "      <td>...</td>\n",
       "      <td>...</td>\n",
       "      <td>...</td>\n",
       "      <td>...</td>\n",
       "    </tr>\n",
       "    <tr>\n",
       "      <th>190</th>\n",
       "      <td>Personal</td>\n",
       "      <td>Ereignistag</td>\n",
       "      <td>Auftrag Nr.</td>\n",
       "      <td>Fahrtrichtung</td>\n",
       "      <td>Beginn Auftrag</td>\n",
       "      <td>Abholung/ Zustellung</td>\n",
       "      <td>Pause</td>\n",
       "      <td>Ende Auftrag</td>\n",
       "      <td>Auftragszeit Insgesamt</td>\n",
       "      <td>Std. Lohn</td>\n",
       "      <td>Lohn</td>\n",
       "    </tr>\n",
       "    <tr>\n",
       "      <th>191</th>\n",
       "      <td>Stipan Alexander</td>\n",
       "      <td>2021-04-30 00:00:00</td>\n",
       "      <td>200412</td>\n",
       "      <td>Hinfahrt</td>\n",
       "      <td>30.04.2021 07:18</td>\n",
       "      <td>07:30</td>\n",
       "      <td>29</td>\n",
       "      <td>30.04.2021 18:03</td>\n",
       "      <td>616</td>\n",
       "      <td>0</td>\n",
       "      <td>0</td>\n",
       "    </tr>\n",
       "    <tr>\n",
       "      <th>192</th>\n",
       "      <td>NaN</td>\n",
       "      <td>NaN</td>\n",
       "      <td>NaN</td>\n",
       "      <td>NaN</td>\n",
       "      <td>NaN</td>\n",
       "      <td>11584</td>\n",
       "      <td>NaN</td>\n",
       "      <td>0</td>\n",
       "      <td>NaN</td>\n",
       "      <td>25.06666666666668</td>\n",
       "      <td>NaN</td>\n",
       "    </tr>\n",
       "    <tr>\n",
       "      <th>193</th>\n",
       "      <td>NaN</td>\n",
       "      <td>NaN</td>\n",
       "      <td>NaN</td>\n",
       "      <td>NaN</td>\n",
       "      <td>NaN</td>\n",
       "      <td>NaN</td>\n",
       "      <td>NaN</td>\n",
       "      <td>NaN</td>\n",
       "      <td>NaN</td>\n",
       "      <td>NaN</td>\n",
       "      <td>NaN</td>\n",
       "    </tr>\n",
       "    <tr>\n",
       "      <th>194</th>\n",
       "      <td>Große Zusammenfassung(21)</td>\n",
       "      <td>NaN</td>\n",
       "      <td>NaN</td>\n",
       "      <td>NaN</td>\n",
       "      <td>NaN</td>\n",
       "      <td>11584</td>\n",
       "      <td>NaN</td>\n",
       "      <td>0</td>\n",
       "      <td>NaN</td>\n",
       "      <td>25.06666666666668</td>\n",
       "      <td>NaN</td>\n",
       "    </tr>\n",
       "  </tbody>\n",
       "</table>\n",
       "<p>195 rows × 11 columns</p>\n",
       "</div>"
      ],
      "text/plain": [
       "                         Unnamed: 0           Unnamed: 1   Unnamed: 2  \\\n",
       "0    Personal => Stipan Alexander                    NaN          NaN   \n",
       "1                          Personal          Ereignistag  Fahrer Zeit   \n",
       "2                  Stipan Alexander  2021-02-01 00:00:00          731   \n",
       "3                          Personal          Ereignistag  Auftrag Nr.   \n",
       "4                  Stipan Alexander  2021-02-01 00:00:00       200003   \n",
       "..                              ...                  ...          ...   \n",
       "190                        Personal          Ereignistag  Auftrag Nr.   \n",
       "191                Stipan Alexander  2021-04-30 00:00:00       200412   \n",
       "192                             NaN                  NaN          NaN   \n",
       "193                             NaN                  NaN          NaN   \n",
       "194       Große Zusammenfassung(21)                  NaN          NaN   \n",
       "\n",
       "        Unnamed: 3        Unnamed: 4            Unnamed: 5 Unnamed: 6  \\\n",
       "0              NaN               NaN                   NaN        NaN   \n",
       "1          T.Pause    gesetzl. Pause             Insgesamt  Std. Lohn   \n",
       "2              NaN                45                   686          0   \n",
       "3    Fahrtrichtung    Beginn Auftrag  Abholung/ Zustellung      Pause   \n",
       "4         Hinfahrt  01.02.2021 07:54                 08:00        NaN   \n",
       "..             ...               ...                   ...        ...   \n",
       "190  Fahrtrichtung    Beginn Auftrag  Abholung/ Zustellung      Pause   \n",
       "191       Hinfahrt  30.04.2021 07:18                 07:30         29   \n",
       "192            NaN               NaN                 11584        NaN   \n",
       "193            NaN               NaN                   NaN        NaN   \n",
       "194            NaN               NaN                 11584        NaN   \n",
       "\n",
       "           Unnamed: 7              Unnamed: 8         Unnamed: 9 Unnamed: 10  \n",
       "0                 NaN                     NaN                NaN         NaN  \n",
       "1                Lohn                    Soll           +- Diff.         NaN  \n",
       "2                   0                       9  2.433333333333334         NaN  \n",
       "3        Ende Auftrag  Auftragszeit Insgesamt          Std. Lohn        Lohn  \n",
       "4    01.02.2021 20:05                     731                  0           0  \n",
       "..                ...                     ...                ...         ...  \n",
       "190      Ende Auftrag  Auftragszeit Insgesamt          Std. Lohn        Lohn  \n",
       "191  30.04.2021 18:03                     616                  0           0  \n",
       "192                 0                     NaN  25.06666666666668         NaN  \n",
       "193               NaN                     NaN                NaN         NaN  \n",
       "194                 0                     NaN  25.06666666666668         NaN  \n",
       "\n",
       "[195 rows x 11 columns]"
      ]
     },
     "execution_count": 99,
     "metadata": {},
     "output_type": "execute_result"
    }
   ],
   "source": [
    "df\n"
   ]
  },
  {
   "cell_type": "code",
   "execution_count": 100,
   "metadata": {},
   "outputs": [],
   "source": [
    "df.rename(columns={'Unnamed: 0': 'id', 'Unnamed: 1': 'date','Unnamed: 2': 'drive_time_min', 'Unnamed: 4': 'pause_had_min'}, inplace=True)"
   ]
  },
  {
   "cell_type": "code",
   "execution_count": 101,
   "metadata": {},
   "outputs": [],
   "source": [
    "clean = df.loc[df['id'] == 'Stipan Alexander']"
   ]
  },
  {
   "cell_type": "code",
   "execution_count": 102,
   "metadata": {},
   "outputs": [],
   "source": [
    "clean_columns = clean.drop(['Unnamed: 5', 'Unnamed: 6', 'Unnamed: 7', 'Unnamed: 8', 'Unnamed: 9', 'Unnamed: 10', 'Unnamed: 3'], axis=1)"
   ]
  },
  {
   "cell_type": "code",
   "execution_count": 103,
   "metadata": {},
   "outputs": [],
   "source": [
    "df = clean_columns\n",
    "df['drive_time_min'] = df['drive_time_min'].astype(int)"
   ]
  },
  {
   "cell_type": "code",
   "execution_count": 104,
   "metadata": {},
   "outputs": [],
   "source": [
    "df = df.drop(df[(df['drive_time_min'] > 1000)].index)"
   ]
  },
  {
   "cell_type": "code",
   "execution_count": 105,
   "metadata": {},
   "outputs": [
    {
     "data": {
      "text/plain": [
       "id                0\n",
       "date              0\n",
       "drive_time_min    0\n",
       "pause_had_min     0\n",
       "dtype: int64"
      ]
     },
     "execution_count": 105,
     "metadata": {},
     "output_type": "execute_result"
    }
   ],
   "source": [
    "df.isnull().sum()"
   ]
  },
  {
   "cell_type": "code",
   "execution_count": 106,
   "metadata": {},
   "outputs": [],
   "source": [
    "df['pause_had_min'] = df['pause_had_min'].astype(int)\n",
    "df['pause_should_min'] = df['pause_had_min']\n",
    "df['date'] = pd.to_datetime(df['date'], format='%Y-%m-%d %H:%M:%S').dt.strftime('%Y-%m-%d')"
   ]
  },
  {
   "cell_type": "code",
   "execution_count": 107,
   "metadata": {},
   "outputs": [
    {
     "name": "stdout",
     "output_type": "stream",
     "text": [
      "<class 'pandas.core.frame.DataFrame'>\n",
      "Index: 60 entries, 2 to 189\n",
      "Data columns (total 5 columns):\n",
      " #   Column            Non-Null Count  Dtype         \n",
      "---  ------            --------------  -----         \n",
      " 0   id                60 non-null     object        \n",
      " 1   date              60 non-null     datetime64[ns]\n",
      " 2   drive_time_min    60 non-null     int32         \n",
      " 3   pause_had_min     60 non-null     int32         \n",
      " 4   pause_should_min  60 non-null     int32         \n",
      "dtypes: datetime64[ns](1), int32(3), object(1)\n",
      "memory usage: 2.1+ KB\n"
     ]
    }
   ],
   "source": [
    "df['date'] = pd.to_datetime(df['date'])\n",
    "df.info()"
   ]
  },
  {
   "cell_type": "code",
   "execution_count": 108,
   "metadata": {},
   "outputs": [],
   "source": [
    "df = df.drop(df[df['drive_time_min'] < 180].index)"
   ]
  },
  {
   "cell_type": "code",
   "execution_count": 109,
   "metadata": {},
   "outputs": [],
   "source": [
    "df['total_time_hour'] = (df['drive_time_min'] + df['pause_should_min']) / 60"
   ]
  },
  {
   "cell_type": "code",
   "execution_count": 110,
   "metadata": {},
   "outputs": [
    {
     "data": {
      "text/html": [
       "<div>\n",
       "<style scoped>\n",
       "    .dataframe tbody tr th:only-of-type {\n",
       "        vertical-align: middle;\n",
       "    }\n",
       "\n",
       "    .dataframe tbody tr th {\n",
       "        vertical-align: top;\n",
       "    }\n",
       "\n",
       "    .dataframe thead th {\n",
       "        text-align: right;\n",
       "    }\n",
       "</style>\n",
       "<table border=\"1\" class=\"dataframe\">\n",
       "  <thead>\n",
       "    <tr style=\"text-align: right;\">\n",
       "      <th></th>\n",
       "      <th>date</th>\n",
       "      <th>drive_time_min</th>\n",
       "      <th>pause_had_min</th>\n",
       "      <th>pause_should_min</th>\n",
       "      <th>total_time_hour</th>\n",
       "    </tr>\n",
       "  </thead>\n",
       "  <tbody>\n",
       "    <tr>\n",
       "      <th>count</th>\n",
       "      <td>60</td>\n",
       "      <td>60.000000</td>\n",
       "      <td>60.000000</td>\n",
       "      <td>60.000000</td>\n",
       "      <td>60.000000</td>\n",
       "    </tr>\n",
       "    <tr>\n",
       "      <th>mean</th>\n",
       "      <td>2021-03-16 07:12:00</td>\n",
       "      <td>600.883333</td>\n",
       "      <td>42.950000</td>\n",
       "      <td>42.950000</td>\n",
       "      <td>10.730556</td>\n",
       "    </tr>\n",
       "    <tr>\n",
       "      <th>min</th>\n",
       "      <td>2021-02-01 00:00:00</td>\n",
       "      <td>519.000000</td>\n",
       "      <td>30.000000</td>\n",
       "      <td>30.000000</td>\n",
       "      <td>9.300000</td>\n",
       "    </tr>\n",
       "    <tr>\n",
       "      <th>25%</th>\n",
       "      <td>2021-02-21 06:00:00</td>\n",
       "      <td>575.500000</td>\n",
       "      <td>45.000000</td>\n",
       "      <td>45.000000</td>\n",
       "      <td>10.341667</td>\n",
       "    </tr>\n",
       "    <tr>\n",
       "      <th>50%</th>\n",
       "      <td>2021-03-13 12:00:00</td>\n",
       "      <td>594.500000</td>\n",
       "      <td>45.000000</td>\n",
       "      <td>45.000000</td>\n",
       "      <td>10.658333</td>\n",
       "    </tr>\n",
       "    <tr>\n",
       "      <th>75%</th>\n",
       "      <td>2021-04-12 06:00:00</td>\n",
       "      <td>614.250000</td>\n",
       "      <td>45.000000</td>\n",
       "      <td>45.000000</td>\n",
       "      <td>10.987500</td>\n",
       "    </tr>\n",
       "    <tr>\n",
       "      <th>max</th>\n",
       "      <td>2021-04-30 00:00:00</td>\n",
       "      <td>731.000000</td>\n",
       "      <td>45.000000</td>\n",
       "      <td>45.000000</td>\n",
       "      <td>12.933333</td>\n",
       "    </tr>\n",
       "    <tr>\n",
       "      <th>std</th>\n",
       "      <td>NaN</td>\n",
       "      <td>37.974609</td>\n",
       "      <td>5.040262</td>\n",
       "      <td>5.040262</td>\n",
       "      <td>0.674049</td>\n",
       "    </tr>\n",
       "  </tbody>\n",
       "</table>\n",
       "</div>"
      ],
      "text/plain": [
       "                      date  drive_time_min  pause_had_min  pause_should_min  \\\n",
       "count                   60       60.000000      60.000000         60.000000   \n",
       "mean   2021-03-16 07:12:00      600.883333      42.950000         42.950000   \n",
       "min    2021-02-01 00:00:00      519.000000      30.000000         30.000000   \n",
       "25%    2021-02-21 06:00:00      575.500000      45.000000         45.000000   \n",
       "50%    2021-03-13 12:00:00      594.500000      45.000000         45.000000   \n",
       "75%    2021-04-12 06:00:00      614.250000      45.000000         45.000000   \n",
       "max    2021-04-30 00:00:00      731.000000      45.000000         45.000000   \n",
       "std                    NaN       37.974609       5.040262          5.040262   \n",
       "\n",
       "       total_time_hour  \n",
       "count        60.000000  \n",
       "mean         10.730556  \n",
       "min           9.300000  \n",
       "25%          10.341667  \n",
       "50%          10.658333  \n",
       "75%          10.987500  \n",
       "max          12.933333  \n",
       "std           0.674049  "
      ]
     },
     "execution_count": 110,
     "metadata": {},
     "output_type": "execute_result"
    }
   ],
   "source": [
    "df.describe()"
   ]
  },
  {
   "cell_type": "code",
   "execution_count": 111,
   "metadata": {},
   "outputs": [
    {
     "data": {
      "image/png": "[encoded data removed]",
      "text/plain": [
       "<Figure size 1400x600 with 1 Axes>"
      ]
     },
     "metadata": {},
     "output_type": "display_data"
    }
   ],
   "source": [
    "x = df['total_time_hour'].plot(kind='hist', figsize=(14, 6), bins=20, fontsize=14, color='lightblue')\n"
   ]
  },
  {
   "cell_type": "code",
   "execution_count": 112,
   "metadata": {},
   "outputs": [
    {
     "data": {
      "text/plain": [
       "<Axes: xlabel='date'>"
      ]
     },
     "execution_count": 112,
     "metadata": {},
     "output_type": "execute_result"
    },
    {
     "data": {
      "image/png": "[encoded data removed]",
      "text/plain": [
       "<Figure size 1400x600 with 1 Axes>"
      ]
     },
     "metadata": {},
     "output_type": "display_data"
    }
   ],
   "source": [
    "df.plot(x='date', y='total_time_hour', figsize=(14, 6), fontsize=14, color='lightblue')"
   ]
  },
  {
   "cell_type": "code",
   "execution_count": 113,
   "metadata": {},
   "outputs": [],
   "source": [
    "df.to_csv('cleaned_data3.csv', index=False)"
   ]
  }
 ],
 "metadata": {
  "kernelspec": {
   "display_name": "env",
   "language": "python",
   "name": "python3"
  },
  "language_info": {
   "codemirror_mode": {
    "name": "ipython",
    "version": 3
   },
   "file_extension": ".py",
   "mimetype": "text/x-python",
   "name": "python",
   "nbconvert_exporter": "python",
   "pygments_lexer": "ipython3",
   "version": "3.10.10"
  },
  "orig_nbformat": 4
 },
 "nbformat": 4,
 "nbformat_minor": 2
}
