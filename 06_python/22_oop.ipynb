{
 "cells": [
  {
   "attachments": {},
   "cell_type": "markdown",
   "metadata": {},
   "source": [
    "Object Oriented Programming [OOP](https://www.youtube.com/watch?v=-pEs-Bss8Wc&list=PLqnslRFeH2UrZtzqlXDWHjI3OV3BK0UWI)\n",
    "\n",
    "This tutorial provides a comprehensive introduction to object-oriented programming (OOP) in Python, covering the fundamental concepts of classes, objects, and inheritance. It is specifically designed for beginners and aims to establish a strong foundation in object-oriented principles.\n",
    "Contents\n",
    "\n",
    "    Introduction & Overview\n",
    "    1. Class & Instance\n",
    "    2. Functions In Classes\n",
    "    3. Inheritance\n",
    "    4. Encapsulation\n",
    "    5. Properties\n",
    "    Recap Of OOP Principles"
   ]
  },
  {
   "cell_type": "code",
   "execution_count": 6,
   "metadata": {},
   "outputs": [],
   "source": [
    "#position, name, age, level, salary\n",
    "se1 = ['Software Engineer', 'Max', 25, 'Junior', 5000]\n",
    "se2 = ['Software Engineer', 'Lisa', 28, 'Senior', 7000]\n",
    "\n",
    "#class is better structure than a list to represent software engineer"
   ]
  },
  {
   "cell_type": "code",
   "execution_count": 5,
   "metadata": {},
   "outputs": [
    {
     "name": "stdout",
     "output_type": "stream",
     "text": [
      "Max 25 Junior 5000\n",
      "Keyboard Magician\n",
      "Keyboard Magician\n"
     ]
    }
   ],
   "source": [
    "class SoftwareEngineer:\n",
    "\n",
    "    # class attributes; can be used on class itself or on instance\n",
    "    alias = 'Keyboard Magician' #belong to class; same for all instances and we can access it without creating an instance\n",
    "\n",
    "    def __init__(self, name, age, level, salary):\n",
    "        # instance attributes; belong to one instance that we create\n",
    "        self.name = name\n",
    "        self.age = age\n",
    "        self.level = level\n",
    "        self.salary = salary\n",
    "\n",
    "# instance\n",
    "se1 = SoftwareEngineer('Max', 25, 'Junior', 5000)\n",
    "print(se1.name, se1.age, se1.level, se1.salary)\n",
    "print(se1.alias)\n",
    "print(SoftwareEngineer.alias)\n",
    "se2 = SoftwareEngineer('Lisa', 28, 'Senior', 7000)\n",
    "\n",
    "#Recap\n",
    "# create a class (blueprint)\n",
    "# create an instance (object)\n",
    "# class vs instance\n",
    "# instance attributes: defined in __init__ method\n",
    "# class attributes: defined outside __init__ method\n"
   ]
  },
  {
   "cell_type": "code",
   "execution_count": 9,
   "metadata": {},
   "outputs": [
    {
     "name": "stdout",
     "output_type": "stream",
     "text": [
      "Max is writing code...\n",
      "Lisa is writing code...\n",
      "Philip is writing code...\n"
     ]
    }
   ],
   "source": [
    "d1 = [\"Designer\", \"Philip\"]\n",
    "\n",
    "def code(se):\n",
    "    print(f'{se[1]} is writing code...')\n",
    "\n",
    "code(se1)\n",
    "code(se2)\n",
    "code(d1)\n",
    "\n",
    "# this is not good because we can pass anything to code function"
   ]
  },
  {
   "cell_type": "code",
   "execution_count": 22,
   "metadata": {},
   "outputs": [
    {
     "name": "stdout",
     "output_type": "stream",
     "text": [
      "Max is writing code...\n",
      "Lisa is writing code...\n",
      "Max is writing code in Python...\n",
      "Lisa is writing code in Java...\n",
      "name = Max, age = 25, level = Junior\n",
      "name = Lisa, age = 28, level = Senior\n",
      "True\n",
      "False\n"
     ]
    },
    {
     "data": {
      "text/plain": [
       "5000"
      ]
     },
     "execution_count": 22,
     "metadata": {},
     "output_type": "execute_result"
    }
   ],
   "source": [
    "class SoftwareEngineer:\n",
    "    #class attributes\n",
    "    alias = 'Keyboard Magician'\n",
    "\n",
    "    def __init__(self, name, age, level, salary):\n",
    "        # instance attributes; belong to one instance that we create\n",
    "        self.name = name\n",
    "        self.age = age\n",
    "        self.level = level\n",
    "        self.salary = salary\n",
    "\n",
    "    # instance method\n",
    "    def code(self):\n",
    "        print(f'{self.name} is writing code...')\n",
    "\n",
    "    def code_in_language(self, language):\n",
    "        print(f'{self.name} is writing code in {language}...')\n",
    "\n",
    "    #def information(self):\n",
    "        #information = f'name = {self.name}, age = {self.age}, level = {self.level}'\n",
    "        #return information\n",
    "\n",
    "    #special method's (dunder/magic method)\n",
    "    def __str__(self):\n",
    "        information = f'name = {self.name}, age = {self.age}, level = {self.level}'\n",
    "        return information\n",
    "\n",
    "    def __eq__(self, other):\n",
    "        return self.name == other.name and self.age == other.age\n",
    "\n",
    "    @staticmethod\n",
    "    def entry_salary(age): #self isn't passed intentionally; use static decorator(prevent crash if we don't pass self)\n",
    "        if age < 25:\n",
    "            return 5000\n",
    "        if age < 30:\n",
    "            return 7000\n",
    "        return 9000\n",
    "\n",
    "\n",
    "\n",
    "# instance\n",
    "se1 = SoftwareEngineer('Max', 25, 'Junior', 5000)\n",
    "se2 = SoftwareEngineer('Lisa', 28, 'Senior', 7000)\n",
    "\n",
    "se4 = SoftwareEngineer('Max', 27, 'Junior', 5000)\n",
    "se3 = SoftwareEngineer('Lisa', 28, 'Senior', 7000)\n",
    "\n",
    "se1.code() #when we call this method, self will be se1 and we don't need to pass it\n",
    "se2.code()\n",
    "se1.code_in_language('Python')\n",
    "se2.code_in_language('Java')\n",
    "\n",
    "print(se1) #__str__ method is called and it returns the string\n",
    "print(se2)\n",
    "\n",
    "print(se2 == se3) #False without __eq__ because they are different instances in memory\n",
    "print(se1 == se4)\n",
    "\n",
    "se1.entry_salary(24) #TypeError: SoftwareEngineer.entry_salary() takes 1 positional argument but 2 were given; self is passed automatically; we need to use static method\n",
    "SoftwareEngineer.entry_salary(24) #we need call it on class itself, not on instance\n",
    "\n",
    "#Recap\n",
    "# instance method: first argument is self\n",
    "# can taka arguments and return values\n",
    "# special dunder methods: __str__, __eq__\n",
    "# static method: no self argument; can't access or modify class state"
   ]
  },
  {
   "cell_type": "code",
   "execution_count": 29,
   "metadata": {},
   "outputs": [
    {
     "name": "stdout",
     "output_type": "stream",
     "text": [
      "Max 25\n",
      "Max is coding...\n",
      "Junior\n",
      "Max is debugging...\n",
      "Philipp 28\n",
      "Philipp is designing...\n",
      "Philipp is drawing...\n"
     ]
    }
   ],
   "source": [
    "#inheritance all attributes and methods from parent class\n",
    "\n",
    "\n",
    "#inherits, extends, overrides\n",
    "class Employee:\n",
    "    def __init__(self, name, age, salary):\n",
    "        self.name = name\n",
    "        self.age = age\n",
    "        self.salary = salary\n",
    "\n",
    "    def work(self):\n",
    "        print(f'{self.name} is working...')\n",
    "\n",
    "\n",
    "class SoftwareEngineer(Employee):\n",
    "    def __init__(self, name, age, salary, level):\n",
    "        super().__init__(name, age, salary)\n",
    "        self.level = level\n",
    "\n",
    "    def debug(self):\n",
    "        print(f'{self.name} is debugging...')\n",
    "\n",
    "    def work(self):\n",
    "        print(f'{self.name} is coding...') #override work method from parent class; same name and same arguments\n",
    "\n",
    "class Designer(Employee):\n",
    "\n",
    "    def draw(self):\n",
    "        print(f'{self.name} is drawing...')\n",
    "\n",
    "    def work(self):\n",
    "        print(f'{self.name} is designing...')\n",
    "\n",
    "\n",
    "\n",
    "se = SoftwareEngineer('Max', 25, 6000, \"Junior\")\n",
    "print(se.name, se.age)\n",
    "se.work()\n",
    "print(se.level)\n",
    "se.debug()\n",
    "#se.drw() #AttributeError: 'SoftwareEngineer' object has no attribute 'drw'\n",
    "\n",
    "d = Designer('Philipp', 28, 7000)\n",
    "print(d.name, d.age)\n",
    "d.work()\n",
    "d.draw()\n",
    "\n"
   ]
  },
  {
   "cell_type": "code",
   "execution_count": 31,
   "metadata": {},
   "outputs": [
    {
     "name": "stdout",
     "output_type": "stream",
     "text": [
      "Max is coding...\n",
      "Lisa is coding...\n",
      "Philipp is designing...\n"
     ]
    }
   ],
   "source": [
    "#Polymorphism (many forms)\n",
    "#works with super class and sub classes\n",
    "\n",
    "employees = [SoftwareEngineer('Max', 25, 6000, \"Junior\"),\n",
    "             SoftwareEngineer('Lisa', 28, 8000, \"Senior\"),\n",
    "             Designer('Philipp', 28, 7000)]\n",
    "\n",
    "def motivate_employees(employees):\n",
    "    for employee in employees:\n",
    "        employee.work()\n",
    "\n",
    "motivate_employees(employees)\n",
    "\n",
    "#Recap\n",
    "# inheritance: ChildClass(ParentClass)\n",
    "# inherit, extend, override\n",
    "# super().__init__()\n",
    "# polymorphism: same method name, different behavior\n",
    "\n"
   ]
  },
  {
   "cell_type": "code",
   "execution_count": 36,
   "metadata": {},
   "outputs": [
    {
     "name": "stdout",
     "output_type": "stream",
     "text": [
      "Max 25\n",
      "6000\n",
      "12000\n"
     ]
    }
   ],
   "source": [
    "#Encapsulation and Abstraction\n",
    "#hide data from outside and only expose what's necessary\n",
    "\n",
    "class SoftwareEngineer:\n",
    "    def __init__(self, name, age):\n",
    "        self.name = name\n",
    "        self.age = age\n",
    "        self._salary = None #protected attribute (private is __salary)\n",
    "        self._num_bugs_solved = 0\n",
    "\n",
    "    def code(self):\n",
    "        self._num_bugs_solved += 1\n",
    "\n",
    "    #getter\n",
    "    def get_salary(self):\n",
    "        return self._salary\n",
    "\n",
    "    #setter\n",
    "    def set_salary(self, base_value):\n",
    "        #check value, enforce constraints\n",
    "        \"\"\" if base_value < 1000:\n",
    "            self._salary = 1000\n",
    "        elif base_value > 20000:\n",
    "            self._salary = 20000\n",
    "        self._salary = base_value \"\"\"\n",
    "\n",
    "        self._salary = self._calculate_salary(base_value) #private method\n",
    "\n",
    "    def _calculate_salary(self, base_value):\n",
    "        if self._num_bugs_solved < 10:\n",
    "            return base_value\n",
    "        if self._num_bugs_solved < 100:\n",
    "            return base_value * 2\n",
    "        return base_value * 3\n",
    "\n",
    "\n",
    "\n",
    "se = SoftwareEngineer('Max', 25)\n",
    "print(se.name, se.age)\n",
    "\n",
    "se.set_salary(6000)\n",
    "print(se.get_salary())\n",
    "\n",
    "for i in range(70):\n",
    "    se.code()\n",
    "se.set_salary(6000)\n",
    "print(se.get_salary())"
   ]
  },
  {
   "cell_type": "code",
   "execution_count": 39,
   "metadata": {},
   "outputs": [
    {
     "name": "stdout",
     "output_type": "stream",
     "text": [
      "6000\n"
     ]
    }
   ],
   "source": [
    "#Property decorator\n",
    "\n",
    "class SoftwareEngineer:\n",
    "    def __init__(self):\n",
    "        self._salary = None\n",
    "\n",
    "    @property\n",
    "    def salary(self):\n",
    "        return self._salary\n",
    "\n",
    "    @salary.setter\n",
    "    def salary(self, value):\n",
    "        self._salary = value\n",
    "\n",
    "se = SoftwareEngineer()\n",
    "se.salary = 6000\n",
    "print(se.salary)\n",
    "\n",
    "#more pythonic way\n",
    "#implementing encapsulation and abstraction"
   ]
  },
  {
   "cell_type": "code",
   "execution_count": 43,
   "metadata": {},
   "outputs": [
    {
     "name": "stdout",
     "output_type": "stream",
     "text": [
      "6000\n"
     ]
    },
    {
     "ename": "NameError",
     "evalue": "name 'value' is not defined",
     "output_type": "error",
     "traceback": [
      "\u001b[1;31m---------------------------------------------------------------------------\u001b[0m",
      "\u001b[1;31mNameError\u001b[0m                                 Traceback (most recent call last)",
      "Cell \u001b[1;32mIn[43], line 20\u001b[0m\n\u001b[0;32m     18\u001b[0m se\u001b[39m.\u001b[39msalary \u001b[39m=\u001b[39m \u001b[39m6000\u001b[39m\n\u001b[0;32m     19\u001b[0m \u001b[39mprint\u001b[39m(se\u001b[39m.\u001b[39msalary)\n\u001b[1;32m---> 20\u001b[0m \u001b[39mdel\u001b[39;00m se\u001b[39m.\u001b[39msalary\n\u001b[0;32m     21\u001b[0m \u001b[39mprint\u001b[39m(se\u001b[39m.\u001b[39msalary)\n",
      "Cell \u001b[1;32mIn[43], line 15\u001b[0m, in \u001b[0;36mSoftwareEngineer.salary\u001b[1;34m(self)\u001b[0m\n\u001b[0;32m     13\u001b[0m \u001b[39m@salary\u001b[39m\u001b[39m.\u001b[39mdeleter\n\u001b[0;32m     14\u001b[0m \u001b[39mdef\u001b[39;00m \u001b[39msalary\u001b[39m(\u001b[39mself\u001b[39m):\n\u001b[1;32m---> 15\u001b[0m     \u001b[39mself\u001b[39m\u001b[39m.\u001b[39m_salary \u001b[39m=\u001b[39m value\n",
      "\u001b[1;31mNameError\u001b[0m: name 'value' is not defined"
     ]
    }
   ],
   "source": [
    "class SoftwareEngineer:\n",
    "    def __init__(self):\n",
    "        self._salary = None\n",
    "\n",
    "    @property\n",
    "    def salary(self):\n",
    "        return self._salary\n",
    "\n",
    "    @salary.setter\n",
    "    def salary(self, value):\n",
    "        self._salary = value\n",
    "\n",
    "    @salary.deleter\n",
    "    def salary(self):\n",
    "        self._salary = value\n",
    "\n",
    "se = SoftwareEngineer()\n",
    "se.salary = 6000\n",
    "print(se.salary)\n",
    "del se.salary\n",
    "print(se.salary)\n",
    "\n",
    "#Recap\n",
    "# encapsulation: hide data from outside\n",
    "# abstraction: expose only what's necessary\n",
    "# public, protected, private\n",
    "# _foo(), _x\n",
    "# getter/setter\n",
    "# getter -> @property\n",
    "# setter -> @x.setter\n"
   ]
  },
  {
   "attachments": {},
   "cell_type": "markdown",
   "metadata": {},
   "source": [
    "Recap of Object Oriented Programming (OOP) Principles\n",
    "\n",
    "In this tutorial, we covered the following key principles of Object Oriented Programming (OOP):\n",
    "\n",
    "    Classes and Objects: Classes are blueprints or templates that define the properties and behaviors of objects. Objects are instances of classes that represent specific entities or concepts. We can create multiple objects based on a single class.\n",
    "\n",
    "    Inheritance: Inheritance allows classes to inherit attributes and methods from other classes, creating a hierarchy of classes. The derived class (subclass) inherits the properties and behaviors of the base class (superclass), and can also add its own unique features.\n",
    "\n",
    "    Encapsulation: Encapsulation refers to the bundling of data and methods within a class, hiding the internal implementation details from the outside world. This helps achieve data abstraction and data protection. Access to the data is typically done through methods, known as getters and setters.\n",
    "\n",
    "    Polymorphism: Polymorphism allows objects of different classes to be treated as objects of a common superclass. It enables methods to be defined in the superclass and overridden in the subclasses, allowing for different implementations of the same method. This provides flexibility and extensibility in code design.\n",
    "\n",
    "    Abstraction: Abstraction focuses on providing essential features and hiding unnecessary details. It allows us to create abstract classes or interfaces that define the common properties and methods for a group of related classes. Abstract classes cannot be instantiated, but they can be used as a base for derived classes.\n",
    "\n",
    "By understanding and applying these principles, you can design and implement robust and flexible code structures using object-oriented programming concepts in Python."
   ]
  }
 ],
 "metadata": {
  "kernelspec": {
   "display_name": "Python 3 (ipykernel)",
   "language": "python",
   "name": "python3"
  },
  "language_info": {
   "codemirror_mode": {
    "name": "ipython",
    "version": 3
   },
   "file_extension": ".py",
   "mimetype": "text/x-python",
   "name": "python",
   "nbconvert_exporter": "python",
   "pygments_lexer": "ipython3",
   "version": "3.10.10"
  },
  "orig_nbformat": 4
 },
 "nbformat": 4,
 "nbformat_minor": 2
}
